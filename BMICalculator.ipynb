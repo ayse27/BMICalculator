{
 "cells": [
  {
   "cell_type": "code",
   "execution_count": null,
   "id": "e8570d54-6e9f-4b63-a4fc-bdbb8ff0dc82",
   "metadata": {},
   "outputs": [],
   "source": [
    "def calculate_bmi(weight, height):\n",
    "    \"\"\"\n",
    "    Calculate BMI (Body Mass Index).\n",
    "\n",
    "    Parameters:\n",
    "        weight (float): Weight in kilograms.\n",
    "        height (float): Height in meters.\n",
    "\n",
    "    Returns:\n",
    "        float: BMI value.\n",
    "        str: BMI category.\n",
    "    \"\"\"\n",
    "    if weight <= 0 or height <= 0:\n",
    "        return None, \"Invalid input: Weight and height must be greater than zero.\"\n",
    "    \n",
    "    bmi = weight / (height ** 2)\n",
    "    if bmi < 18.5:\n",
    "        category = \"Underweight\"\n",
    "    elif 18.5 <= bmi < 24.9:\n",
    "        category = \"Normal weight\"\n",
    "    elif 25 <= bmi < 29.9:\n",
    "        category = \"Overweight\"\n",
    "    else:\n",
    "        category = \"Obesity\"\n",
    "    return bmi, category\n",
    "\n",
    "def main():\n",
    "    print(\"--- BMI Calculator ---\")\n",
    "    try:\n",
    "        weight = float(input(\"Enter your weight (kg): \"))\n",
    "        height = float(input(\"Enter your height (m): \"))\n",
    "        bmi, category = calculate_bmi(weight, height)\n",
    "        if bmi is None:\n",
    "            print(category)\n",
    "        else:\n",
    "            print(f\"Your BMI is: {bmi:.2f}\")\n",
    "            print(f\"You are categorized as: {category}\")\n",
    "    except ValueError:\n",
    "        print(\"Invalid input. Please enter numeric values for weight and height.\")\n",
    "\n",
    "if __name__ == \"__main__\":\n",
    "    main()\n"
   ]
  }
 ],
 "metadata": {
  "kernelspec": {
   "display_name": "Python 3 (ipykernel)",
   "language": "python",
   "name": "python3"
  },
  "language_info": {
   "codemirror_mode": {
    "name": "ipython",
    "version": 3
   },
   "file_extension": ".py",
   "mimetype": "text/x-python",
   "name": "python",
   "nbconvert_exporter": "python",
   "pygments_lexer": "ipython3",
   "version": "3.12.7"
  }
 },
 "nbformat": 4,
 "nbformat_minor": 5
}
